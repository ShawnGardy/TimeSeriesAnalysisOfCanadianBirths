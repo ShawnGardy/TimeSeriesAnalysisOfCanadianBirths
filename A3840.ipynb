{
 "cells": [
  {
   "cell_type": "markdown",
   "metadata": {
    "tags": []
   },
   "source": [
    "# ***Time Series Analysis Of Canadian Births***"
   ]
  },
  {
   "cell_type": "markdown",
   "metadata": {},
   "source": [
    "#### The Objectives Of This Assingment Are To Conduct A Time Series Analysis On An Open Source Data Set Of Our Choice. In Doing So We Must 1. De-Trend And De-Seasonalize The Data 2.Conduct ARIMA or SARIMA 3. Evaluate The Model "
   ]
  },
  {
   "cell_type": "markdown",
   "metadata": {},
   "source": [
    "### The Following Applications Of Time Series Analysis Were Presented In The Lecture"
   ]
  },
  {
   "cell_type": "markdown",
   "metadata": {},
   "source": [
    "| Number | Application |\n",
    "| ---: | :--- |\n",
    "| 1 | Economic Forcasting |\n",
    "| 2 | Sales Forcasting |\n",
    "| 3 | Weather Forcasting |\n",
    "| 4 | Budgetary Analysis |  \n",
    "| 5 | Stock Market Analysis |\n",
    "| 6 | Process And Quality Control | \n",
    "| 7 | Utility Studies |\n",
    "| 8 | Census Analysis |\n",
    "| 9 | Earthquaqe Prediction |"
   ]
  },
  {
   "cell_type": "markdown",
   "metadata": {},
   "source": [
    "### The Dataset Chossen Was Downloaded From Statistics Canada Website And Covers The Number Of Live Births Per Month From January 2010 Through To The End Of December 2010."
   ]
  },
  {
   "cell_type": "code",
   "execution_count": 1,
   "metadata": {},
   "outputs": [],
   "source": [
    "import pandas as pd\n",
    "from pandas.core.nanops import nanmean as pd_nanmean\n",
    "import numpy as np\n",
    "from matplotlib import pyplot as plt\n",
    "from statsmodels.graphics.tsaplots import plot_acf, plot_pacf\n",
    "from statsmodels.tsa import stattools\n",
    "from statsmodels.stats.diagnostic import acorr_ljungbox\n",
    "from sklearn.linear_model import LinearRegression"
   ]
  },
  {
   "cell_type": "code",
   "execution_count": 2,
   "metadata": {},
   "outputs": [],
   "source": [
    "import pandas as pd\n",
    "from statsmodels.graphics.tsaplots import plot_acf, plot_pacf\n",
    "from statsmodels.tsa.arima_model import ARIMA, ARIMAResults\n",
    "from statsmodels.tsa.statespace.sarimax import SARIMAX\n",
    "from statsmodels.tsa import stattools\n",
    "from statsmodels.tsa.stattools import adfuller\n",
    "from statsmodels.stats.diagnostic import acorr_ljungbox\n",
    "from sklearn.metrics import mean_squared_error\n",
    "import numpy as np\n",
    "import matplotlib.pyplot as plt"
   ]
  },
  {
   "cell_type": "code",
   "execution_count": 3,
   "metadata": {},
   "outputs": [],
   "source": [
    "import matplotlib.pyplot as plt\n",
    "import pandas as pd\n",
    "import numpy as np\n",
    "from random import randrange\n",
    "from statsmodels.tsa.seasonal import seasonal_decompose\n",
    "from statsmodels.tsa.arima_model import ARIMA\n",
    "from statsmodels.graphics import tsaplots"
   ]
  },
  {
   "cell_type": "code",
   "execution_count": 4,
   "metadata": {},
   "outputs": [],
   "source": [
    "births=pd.read_csv('C:/CIND840/cbirths3.csv',header=0)"
   ]
  },
  {
   "cell_type": "code",
   "execution_count": 5,
   "metadata": {},
   "outputs": [
    {
     "name": "stdout",
     "output_type": "stream",
     "text": [
      "Shape of the dataset: (132, 4)\n"
     ]
    }
   ],
   "source": [
    "print('Shape of the dataset:', births.shape)\n"
   ]
  },
  {
   "cell_type": "code",
   "execution_count": 6,
   "metadata": {},
   "outputs": [
    {
     "name": "stdout",
     "output_type": "stream",
     "text": [
      "Year      object\n",
      "Births     int64\n",
      "Year.1     int64\n",
      "Month      int64\n",
      "dtype: object\n"
     ]
    }
   ],
   "source": [
    "print(births.dtypes)\n"
   ]
  },
  {
   "cell_type": "code",
   "execution_count": 7,
   "metadata": {},
   "outputs": [
    {
     "data": {
      "text/html": [
       "<div>\n",
       "<style scoped>\n",
       "    .dataframe tbody tr th:only-of-type {\n",
       "        vertical-align: middle;\n",
       "    }\n",
       "\n",
       "    .dataframe tbody tr th {\n",
       "        vertical-align: top;\n",
       "    }\n",
       "\n",
       "    .dataframe thead th {\n",
       "        text-align: right;\n",
       "    }\n",
       "</style>\n",
       "<table border=\"1\" class=\"dataframe\">\n",
       "  <thead>\n",
       "    <tr style=\"text-align: right;\">\n",
       "      <th></th>\n",
       "      <th>Year</th>\n",
       "      <th>Births</th>\n",
       "      <th>Year.1</th>\n",
       "      <th>Month</th>\n",
       "    </tr>\n",
       "  </thead>\n",
       "  <tbody>\n",
       "    <tr>\n",
       "      <th>0</th>\n",
       "      <td>10-Jan</td>\n",
       "      <td>30363</td>\n",
       "      <td>2010</td>\n",
       "      <td>1</td>\n",
       "    </tr>\n",
       "    <tr>\n",
       "      <th>1</th>\n",
       "      <td>10-Feb</td>\n",
       "      <td>27740</td>\n",
       "      <td>2010</td>\n",
       "      <td>2</td>\n",
       "    </tr>\n",
       "    <tr>\n",
       "      <th>2</th>\n",
       "      <td>10-Mar</td>\n",
       "      <td>32268</td>\n",
       "      <td>2010</td>\n",
       "      <td>3</td>\n",
       "    </tr>\n",
       "    <tr>\n",
       "      <th>3</th>\n",
       "      <td>10-Apr</td>\n",
       "      <td>31449</td>\n",
       "      <td>2010</td>\n",
       "      <td>4</td>\n",
       "    </tr>\n",
       "    <tr>\n",
       "      <th>4</th>\n",
       "      <td>10-May</td>\n",
       "      <td>31908</td>\n",
       "      <td>2010</td>\n",
       "      <td>5</td>\n",
       "    </tr>\n",
       "  </tbody>\n",
       "</table>\n",
       "</div>"
      ],
      "text/plain": [
       "     Year  Births  Year.1  Month\n",
       "0  10-Jan   30363    2010      1\n",
       "1  10-Feb   27740    2010      2\n",
       "2  10-Mar   32268    2010      3\n",
       "3  10-Apr   31449    2010      4\n",
       "4  10-May   31908    2010      5"
      ]
     },
     "execution_count": 7,
     "metadata": {},
     "output_type": "execute_result"
    }
   ],
   "source": [
    "births.head()"
   ]
  },
  {
   "cell_type": "code",
   "execution_count": 8,
   "metadata": {},
   "outputs": [
    {
     "data": {
      "text/html": [
       "<div>\n",
       "<style scoped>\n",
       "    .dataframe tbody tr th:only-of-type {\n",
       "        vertical-align: middle;\n",
       "    }\n",
       "\n",
       "    .dataframe tbody tr th {\n",
       "        vertical-align: top;\n",
       "    }\n",
       "\n",
       "    .dataframe thead th {\n",
       "        text-align: right;\n",
       "    }\n",
       "</style>\n",
       "<table border=\"1\" class=\"dataframe\">\n",
       "  <thead>\n",
       "    <tr style=\"text-align: right;\">\n",
       "      <th></th>\n",
       "      <th>Births</th>\n",
       "      <th>Year.1</th>\n",
       "      <th>Month</th>\n",
       "    </tr>\n",
       "  </thead>\n",
       "  <tbody>\n",
       "    <tr>\n",
       "      <th>count</th>\n",
       "      <td>132.000000</td>\n",
       "      <td>132.000000</td>\n",
       "      <td>132.000000</td>\n",
       "    </tr>\n",
       "    <tr>\n",
       "      <th>mean</th>\n",
       "      <td>31429.045455</td>\n",
       "      <td>2015.000000</td>\n",
       "      <td>6.500000</td>\n",
       "    </tr>\n",
       "    <tr>\n",
       "      <th>std</th>\n",
       "      <td>1727.522989</td>\n",
       "      <td>3.174324</td>\n",
       "      <td>3.465203</td>\n",
       "    </tr>\n",
       "    <tr>\n",
       "      <th>min</th>\n",
       "      <td>27119.000000</td>\n",
       "      <td>2010.000000</td>\n",
       "      <td>1.000000</td>\n",
       "    </tr>\n",
       "    <tr>\n",
       "      <th>25%</th>\n",
       "      <td>30334.000000</td>\n",
       "      <td>2012.000000</td>\n",
       "      <td>3.750000</td>\n",
       "    </tr>\n",
       "    <tr>\n",
       "      <th>50%</th>\n",
       "      <td>31489.000000</td>\n",
       "      <td>2015.000000</td>\n",
       "      <td>6.500000</td>\n",
       "    </tr>\n",
       "    <tr>\n",
       "      <th>75%</th>\n",
       "      <td>32699.250000</td>\n",
       "      <td>2018.000000</td>\n",
       "      <td>9.250000</td>\n",
       "    </tr>\n",
       "    <tr>\n",
       "      <th>max</th>\n",
       "      <td>34835.000000</td>\n",
       "      <td>2020.000000</td>\n",
       "      <td>12.000000</td>\n",
       "    </tr>\n",
       "  </tbody>\n",
       "</table>\n",
       "</div>"
      ],
      "text/plain": [
       "             Births       Year.1       Month\n",
       "count    132.000000   132.000000  132.000000\n",
       "mean   31429.045455  2015.000000    6.500000\n",
       "std     1727.522989     3.174324    3.465203\n",
       "min    27119.000000  2010.000000    1.000000\n",
       "25%    30334.000000  2012.000000    3.750000\n",
       "50%    31489.000000  2015.000000    6.500000\n",
       "75%    32699.250000  2018.000000    9.250000\n",
       "max    34835.000000  2020.000000   12.000000"
      ]
     },
     "execution_count": 8,
     "metadata": {},
     "output_type": "execute_result"
    }
   ],
   "source": [
    "births.describe()"
   ]
  },
  {
   "cell_type": "markdown",
   "metadata": {},
   "source": [
    "#### The Following Code Block, Inspired By Lab 7 Enables The Time Series To Be Plotted"
   ]
  },
  {
   "cell_type": "code",
   "execution_count": 9,
   "metadata": {},
   "outputs": [
    {
     "data": {
      "image/png": "[encoded data removed]",
      "text/plain": [
       "<Figure size 1080x288 with 1 Axes>"
      ]
     },
     "metadata": {
      "needs_background": "light"
     },
     "output_type": "display_data"
    }
   ],
   "source": [
    "'''\n",
    "Parameters:\n",
    "X : a list of pandas series\n",
    "'''\n",
    "def ts_plot(X, xlabel='Time', ylabel='Observed Quantity', title='Time Series', height=4, width=15):\n",
    "  fig, ax = plt.subplots(figsize=(width, height))\n",
    "  markers = ['*', '.', 'o', '^']\n",
    "  colors = ['b', 'r', 'g', 'y']\n",
    "  # Add x-axis and y-axis\n",
    "  for i, xi in enumerate(X):\n",
    "    xi.plot(ax=ax, linestyle='-', marker=markers[i], color=colors[i])\n",
    "  # Set title and labels for axes\n",
    "  ax.set(xlabel=xlabel,\n",
    "         ylabel=ylabel,\n",
    "         title=title)\n",
    "  if len(X) > 1: # more than one series\n",
    "    ax.legend()\n",
    "  plt.show()\n",
    "\n",
    "ts_plot([births.Births], xlabel='Monthly From Jan-2010 To Dec-2020', ylabel='Births', title='Births Per Month' )"
   ]
  },
  {
   "cell_type": "markdown",
   "metadata": {},
   "source": [
    "Of The Four Data Patterns Presented In The Class, It Appears That The Data Does Not Have Unexpected(Irregular) Movements Preventing It From Being Labeled Random Movements."
   ]
  },
  {
   "cell_type": "markdown",
   "metadata": {},
   "source": [
    "Furthermore, The Data Does Not Have Upward And Downward Movements Without Regular Periodicity, Or Peaks And Valleys But At Unpredictable Times Meaning The Data Is Not Cyclical"
   ]
  },
  {
   "cell_type": "code",
   "execution_count": 10,
   "metadata": {},
   "outputs": [
    {
     "ename": "SyntaxError",
     "evalue": "invalid syntax (Temp/ipykernel_14476/2730732412.py, line 1)",
     "output_type": "error",
     "traceback": [
      "\u001b[1;36m  File \u001b[1;32m\"C:\\Users\\shawn\\AppData\\Local\\Temp/ipykernel_14476/2730732412.py\"\u001b[1;36m, line \u001b[1;32m1\u001b[0m\n\u001b[1;33m    There Also Does Not Appear That The Data Has An Overall Tendancy For A Long Period Of Time. That Means That The Data Does Not Generate An Overall Upward Or Downward Trend To Represent A General Trend.\u001b[0m\n\u001b[1;37m          ^\u001b[0m\n\u001b[1;31mSyntaxError\u001b[0m\u001b[1;31m:\u001b[0m invalid syntax\n"
     ]
    }
   ],
   "source": [
    "There Also Does Not Appear That The Data Has An Overall Tendancy For A Long Period Of Time. That Means That The Data Does Not Generate An Overall Upward Or Downward Trend To Represent A General Trend. "
   ]
  },
  {
   "cell_type": "markdown",
   "metadata": {},
   "source": [
    "This It Can Be Inferred That The Data Has A Seasonal Pattern In That There Are Periodic Fluctuations That Occur At Regular Intervals And There Are Peaks And Valeys That Appear Regularly"
   ]
  },
  {
   "cell_type": "markdown",
   "metadata": {},
   "source": [
    "### A Basic Look At The Histogram Indicates The Data Is Somewhat Normal"
   ]
  },
  {
   "cell_type": "code",
   "execution_count": null,
   "metadata": {},
   "outputs": [],
   "source": [
    "plt.hist(births.Births)"
   ]
  },
  {
   "cell_type": "code",
   "execution_count": null,
   "metadata": {},
   "outputs": [],
   "source": [
    "plt.hist(births.Births, density=False, bins=11)  # density=False would make counts\n"
   ]
  },
  {
   "cell_type": "code",
   "execution_count": null,
   "metadata": {},
   "outputs": [],
   "source": [
    "births.hist"
   ]
  },
  {
   "cell_type": "markdown",
   "metadata": {},
   "source": [
    "# Task1: Detrend And Deseasonalize The Data"
   ]
  },
  {
   "cell_type": "markdown",
   "metadata": {},
   "source": [
    "### Examining The AutoCorrelation Functions"
   ]
  },
  {
   "cell_type": "code",
   "execution_count": 11,
   "metadata": {},
   "outputs": [
    {
     "data": {
      "image/png": "[encoded data removed]",
      "text/plain": [
       "<Figure size 864x288 with 2 Axes>"
      ]
     },
     "metadata": {
      "needs_background": "light"
     },
     "output_type": "display_data"
    }
   ],
   "source": [
    "'''\n",
    "Parameters:\n",
    "Xt : a pandas series\n",
    "nlag : count of lags to be used in acf/pacf\n",
    "'''\n",
    "def acf_pacf_plotter(Xt, nlag=30, fig_size=(12, 4), alpha=0.05):\n",
    "    plt.figure(figsize=fig_size)\n",
    "    layout = (1, 2)\n",
    "    \n",
    "    # Assign axes\n",
    "    ax_acf= plt.subplot2grid(layout, (0, 0))\n",
    "    ax_pacf = plt.subplot2grid(layout, (0, 1))\n",
    "    \n",
    "    # Plot graphs\n",
    "    plot_acf(Xt.dropna(), alpha=alpha, lags=nlag, ax=ax_acf)\n",
    "    plot_pacf(Xt.dropna(), alpha=alpha, lags=nlag, ax=ax_pacf)\n",
    "    plt.tight_layout()\n",
    "    return None\n",
    "\n",
    "acf_pacf_plotter(births.Births, nlag=15)"
   ]
  },
  {
   "cell_type": "markdown",
   "metadata": {},
   "source": [
    "#### ARIMA models assume that the mean, varaiance, and autocorrelations do not change over time. Deciding On The Number Of Differencing Needed Is Considered To Be In The Identification Stage of ARIMA models.The number of MA terms needed in a Time Series is determined by ACF.The Lag At Which PACF Is Cutting Off Indicates The p In AR. "
   ]
  },
  {
   "cell_type": "code",
   "execution_count": 12,
   "metadata": {},
   "outputs": [
    {
     "ename": "NameError",
     "evalue": "name 'df_co2' is not defined",
     "output_type": "error",
     "traceback": [
      "\u001b[1;31m---------------------------------------------------------------------------\u001b[0m",
      "\u001b[1;31mNameError\u001b[0m                                 Traceback (most recent call last)",
      "\u001b[1;32m~\\AppData\\Local\\Temp/ipykernel_14476/2346749486.py\u001b[0m in \u001b[0;36m<module>\u001b[1;34m\u001b[0m\n\u001b[0;32m      6\u001b[0m   \u001b[1;32mreturn\u001b[0m \u001b[0mtrend_model\u001b[0m\u001b[1;33m\u001b[0m\u001b[1;33m\u001b[0m\u001b[0m\n\u001b[0;32m      7\u001b[0m \u001b[1;33m\u001b[0m\u001b[0m\n\u001b[1;32m----> 8\u001b[1;33m \u001b[0mtrend_model\u001b[0m \u001b[1;33m=\u001b[0m \u001b[0mregress\u001b[0m\u001b[1;33m(\u001b[0m\u001b[0mXt\u001b[0m \u001b[1;33m=\u001b[0m \u001b[0mdf_co2\u001b[0m\u001b[1;33m.\u001b[0m\u001b[0mday_number\u001b[0m\u001b[1;33m.\u001b[0m\u001b[0mvalues\u001b[0m\u001b[1;33m.\u001b[0m\u001b[0mreshape\u001b[0m\u001b[1;33m(\u001b[0m\u001b[1;33m-\u001b[0m\u001b[1;36m1\u001b[0m\u001b[1;33m,\u001b[0m \u001b[1;36m1\u001b[0m\u001b[1;33m)\u001b[0m\u001b[1;33m,\u001b[0m  \u001b[0mYt\u001b[0m \u001b[1;33m=\u001b[0m \u001b[0mdf_co2\u001b[0m\u001b[1;33m.\u001b[0m\u001b[0mCO2\u001b[0m\u001b[1;33m.\u001b[0m\u001b[0mvalues\u001b[0m\u001b[1;33m)\u001b[0m\u001b[1;33m\u001b[0m\u001b[1;33m\u001b[0m\u001b[0m\n\u001b[0m\u001b[0;32m      9\u001b[0m \u001b[1;31m# create a new column CO2_TrendComp to hold the trend values predicted by regression model\u001b[0m\u001b[1;33m\u001b[0m\u001b[1;33m\u001b[0m\u001b[0m\n\u001b[0;32m     10\u001b[0m \u001b[0mdf_co2\u001b[0m\u001b[1;33m[\u001b[0m\u001b[1;34m'CO2_TrendComp'\u001b[0m\u001b[1;33m]\u001b[0m \u001b[1;33m=\u001b[0m \u001b[0mpd\u001b[0m\u001b[1;33m.\u001b[0m\u001b[0mSeries\u001b[0m\u001b[1;33m(\u001b[0m\u001b[0mdata\u001b[0m\u001b[1;33m=\u001b[0m\u001b[0mtrend_model\u001b[0m\u001b[1;33m.\u001b[0m\u001b[0mpredict\u001b[0m\u001b[1;33m(\u001b[0m\u001b[0mdf_co2\u001b[0m\u001b[1;33m.\u001b[0m\u001b[0mday_number\u001b[0m\u001b[1;33m.\u001b[0m\u001b[0mvalues\u001b[0m\u001b[1;33m.\u001b[0m\u001b[0mreshape\u001b[0m\u001b[1;33m(\u001b[0m\u001b[1;33m-\u001b[0m\u001b[1;36m1\u001b[0m\u001b[1;33m,\u001b[0m \u001b[1;36m1\u001b[0m\u001b[1;33m)\u001b[0m\u001b[1;33m)\u001b[0m\u001b[1;33m,\u001b[0m \u001b[0mindex\u001b[0m\u001b[1;33m=\u001b[0m\u001b[0mdf_co2\u001b[0m\u001b[1;33m.\u001b[0m\u001b[0mindex\u001b[0m\u001b[1;33m)\u001b[0m\u001b[1;33m\u001b[0m\u001b[1;33m\u001b[0m\u001b[0m\n",
      "\u001b[1;31mNameError\u001b[0m: name 'df_co2' is not defined"
     ]
    }
   ],
   "source": [
    "def regress(Xt, Yt):\n",
    "  trend_model = LinearRegression(copy_X=True, normalize=True, fit_intercept=True)\n",
    "  trend_model.fit(Xt, Yt)\n",
    "  print('Trend model coefficient={} and intercept={}'.format(trend_model.coef_[0],\n",
    "  trend_model.intercept_))\n",
    "  return trend_model\n",
    "\n",
    "trend_model = regress(Xt = df_co2.day_number.values.reshape(-1, 1),  Yt = df_co2.CO2.values)\n",
    "# create a new column CO2_TrendComp to hold the trend values predicted by regression model\n",
    "df_co2['CO2_TrendComp'] = pd.Series(data=trend_model.predict(df_co2.day_number.values.reshape(-1, 1)), index=df_co2.index)\n",
    "# Subtract CO2_TrendComp from CO2 to get the CO2_Detrended values\n",
    "df_co2['CO2_Detrended'] = df_co2.CO2 - df_co2.CO2_TrendComp\n",
    "ts_plot([df_co2.CO2, df_co2.CO2_TrendComp], title='CO2 Concentrations Data: Trend using regression')\n",
    "ts_plot([df_co2.CO2_Detrended], title='CO2 Concentrations Data: Detrended using regression')\n",
    "# Notice: even though the trend is removed but the time series is still auto correlated.\n",
    "# We can confirm this by observing acf/pacf plots\n",
    "# the autocorrelation values outside the blue-band (conf-interval)\n",
    "acf_pacf_plotter(df_co2.CO2_Detrended, nlag=15)\n"
   ]
  },
  {
   "cell_type": "code",
   "execution_count": null,
   "metadata": {},
   "outputs": [],
   "source": []
  }
 ],
 "metadata": {
  "kernelspec": {
   "display_name": "Python 3 (ipykernel)",
   "language": "python",
   "name": "python3"
  },
  "language_info": {
   "codemirror_mode": {
    "name": "ipython",
    "version": 3
   },
   "file_extension": ".py",
   "mimetype": "text/x-python",
   "name": "python",
   "nbconvert_exporter": "python",
   "pygments_lexer": "ipython3",
   "version": "3.9.12"
  }
 },
 "nbformat": 4,
 "nbformat_minor": 4
}
